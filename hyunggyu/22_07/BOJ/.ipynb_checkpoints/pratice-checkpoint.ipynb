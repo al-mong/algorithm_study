{
 "cells": [
  {
   "cell_type": "markdown",
   "id": "970a1212",
   "metadata": {},
   "source": [
    "# 1094"
   ]
  },
  {
   "cell_type": "code",
   "execution_count": null,
   "id": "0be5e0a4",
   "metadata": {},
   "outputs": [],
   "source": [
    "x = int(input())\n",
    "y = [64,32,16,8,4,2,1]\n",
    "count = 0\n",
    "for i in y:\n",
    "    if x >=i:\n",
    "        x -= i\n",
    "        count +=1\n",
    "print(count)"
   ]
  },
  {
   "cell_type": "markdown",
   "id": "63bf57de",
   "metadata": {},
   "source": [
    "# 1251"
   ]
  },
  {
   "cell_type": "code",
   "execution_count": 8,
   "id": "6e4185d6",
   "metadata": {},
   "outputs": [
    {
     "name": "stdout",
     "output_type": "stream",
     "text": [
      "mobitel\n"
     ]
    },
    {
     "ename": "ValueError",
     "evalue": "substring not found",
     "output_type": "error",
     "traceback": [
      "\u001b[1;31m---------------------------------------------------------------------------\u001b[0m",
      "\u001b[1;31mValueError\u001b[0m                                Traceback (most recent call last)",
      "Input \u001b[1;32mIn [8]\u001b[0m, in \u001b[0;36m<cell line: 5>\u001b[1;34m()\u001b[0m\n\u001b[0;32m      6\u001b[0m \u001b[38;5;28;01mif\u001b[39;00m i \u001b[38;5;241m==\u001b[39m res[\u001b[38;5;241m-\u001b[39m\u001b[38;5;241m1\u001b[39m] \u001b[38;5;129;01mor\u001b[39;00m i \u001b[38;5;241m==\u001b[39m res[\u001b[38;5;241m-\u001b[39m\u001b[38;5;241m2\u001b[39m]:\n\u001b[0;32m      7\u001b[0m     \u001b[38;5;28;01mcontinue\u001b[39;00m\n\u001b[1;32m----> 8\u001b[0m a \u001b[38;5;241m=\u001b[39m res[:\u001b[43mres\u001b[49m\u001b[38;5;241;43m.\u001b[39;49m\u001b[43mindex\u001b[49m\u001b[43m(\u001b[49m\u001b[43mi\u001b[49m\u001b[43m)\u001b[49m]\n\u001b[0;32m      9\u001b[0m \u001b[38;5;28;01mfor\u001b[39;00m j \u001b[38;5;129;01min\u001b[39;00m word:\n\u001b[0;32m     10\u001b[0m     \u001b[38;5;28;01mif\u001b[39;00m j \u001b[38;5;241m==\u001b[39m res[\u001b[38;5;241m-\u001b[39m\u001b[38;5;241m1\u001b[39m]:\n",
      "\u001b[1;31mValueError\u001b[0m: substring not found"
     ]
    }
   ],
   "source": [
    "word = 'abcdefghijklmnopqrstuvwxyz'\n",
    "res = input()\n",
    "a = b= c= ''\n",
    "ra = rb = rc = ''\n",
    "for i in word:\n",
    "    if i == res[-1] or i == res[-2]:\n",
    "        continue\n",
    "    a = res[:res.index(i)]\n",
    "    for j in word:\n",
    "        if j == res[-1]:\n",
    "            continue\n",
    "        b = res[res.index(i)+1:res.index(j)]\n",
    "        c = res[res.index(j)+1:]\n",
    "ra = a[::-1]\n",
    "rb = b[::-1]\n",
    "rc = c[::-1]\n",
    "result = ra+rb+rc\n",
    "print(result)\n",
    "        "
   ]
  },
  {
   "cell_type": "code",
   "execution_count": 6,
   "id": "09dba178",
   "metadata": {},
   "outputs": [
    {
     "name": "stdout",
     "output_type": "stream",
     "text": [
      "abc\n"
     ]
    }
   ],
   "source": [
    "a = 'abc'\n",
    "b = list(a).reverse()\n",
    "print(a)"
   ]
  },
  {
   "cell_type": "code",
   "execution_count": null,
   "id": "d46707a6",
   "metadata": {},
   "outputs": [],
   "source": []
  },
  {
   "cell_type": "code",
   "execution_count": null,
   "id": "02c92b23",
   "metadata": {},
   "outputs": [],
   "source": []
  }
 ],
 "metadata": {
  "kernelspec": {
   "display_name": "Python 3 (ipykernel)",
   "language": "python",
   "name": "python3"
  },
  "language_info": {
   "codemirror_mode": {
    "name": "ipython",
    "version": 3
   },
   "file_extension": ".py",
   "mimetype": "text/x-python",
   "name": "python",
   "nbconvert_exporter": "python",
   "pygments_lexer": "ipython3",
   "version": "3.9.13"
  }
 },
 "nbformat": 4,
 "nbformat_minor": 5
}
